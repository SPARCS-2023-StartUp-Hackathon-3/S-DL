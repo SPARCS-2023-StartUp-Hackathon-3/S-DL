{
 "cells": [
  {
   "cell_type": "code",
   "execution_count": 10,
   "metadata": {},
   "outputs": [
    {
     "data": {
      "text/plain": [
       "126753"
      ]
     },
     "execution_count": 10,
     "metadata": {},
     "output_type": "execute_result"
    }
   ],
   "source": [
    "from random import random\n",
    "from time import sleep\n",
    "from urllib.request import urlretrieve\n",
    "import jsonlines\n",
    "import pandas as pd\n",
    "import jsonlines, json\n",
    "from dataclasses import dataclass, asdict\n",
    "from typing import List\n",
    "import os \n",
    "\n",
    "@dataclass\n",
    "class FashionDiffusion:\n",
    "    id: int\n",
    "    image: str\n",
    "    color: str\n",
    "    title: str\n",
    "    style: str\n",
    "\n",
    "all_list = []\n",
    "\n",
    "with open(\"metadata.json\", \"r\") as f:\n",
    "  all_list.extend(json.load(f))\n",
    "  \n",
    "len(all_list)"
   ]
  },
  {
   "cell_type": "code",
   "execution_count": 11,
   "metadata": {},
   "outputs": [],
   "source": [
    "image_data: List[FashionDiffusion] = []\n",
    "i: int = 0\n",
    "for data in all_list:\n",
    "    for image in data[\"images\"]:\n",
    "        if i == 55782:\n",
    "            pass\n",
    "        try:\n",
    "            image_data.append(FashionDiffusion(\n",
    "                i,\n",
    "                image[\"0\"].replace(\"w=60&h=90\", \"w=512&h=512\"),\n",
    "                image[\"color\"],\n",
    "                data[\"title\"],\n",
    "                data[\"description\"]\n",
    "            ))\n",
    "            i += 1\n",
    "        except:\n",
    "            pass\n",
    "\n",
    "prompts = []\n",
    "\n",
    "\n",
    "with open(\"nordstrom/train/metadata.jsonl\", \"w\") as f:\n",
    "  for data in image_data:\n",
    "    if not os.path.exists(f\"nordstrom/train/{data.id}.jpg\"):\n",
    "        continue\n",
    "    json.dump({\n",
    "        \"file_name\": f\"{data.id}.jpg\",\n",
    "        \"text\": f\"title: {data.title}\\ncolor: {data.color}\\nstyle: {data.style}\"\n",
    "    }, f)\n",
    "    f.write(\"\\n\")\n"
   ]
  },
  {
   "cell_type": "code",
   "execution_count": 14,
   "metadata": {},
   "outputs": [
    {
     "name": "stdout",
     "output_type": "stream",
     "text": [
      "178862\n",
      "96568\n"
     ]
    }
   ],
   "source": [
    "print(len(image_data))\n",
    "\n",
    "import glob\n",
    "images = glob.glob(\"nordstrom/train/*.jpg\")\n",
    "print(len(images))\n",
    "\n",
    "with open(\"nordstrom/train/metadata.jsonl\", \"r\") as f:\n",
    "  print(len(f.readlines()))"
   ]
  },
  {
   "cell_type": "code",
   "execution_count": null,
   "metadata": {},
   "outputs": [],
   "source": []
  }
 ],
 "metadata": {
  "kernelspec": {
   "display_name": "Python 3",
   "language": "python",
   "name": "python3"
  },
  "language_info": {
   "codemirror_mode": {
    "name": "ipython",
    "version": 3
   },
   "file_extension": ".py",
   "mimetype": "text/x-python",
   "name": "python",
   "nbconvert_exporter": "python",
   "pygments_lexer": "ipython3",
   "version": "3.8.12"
  },
  "orig_nbformat": 4,
  "vscode": {
   "interpreter": {
    "hash": "df0893f56f349688326838aaeea0de204df53a132722cbd565e54b24a8fec5f6"
   }
  }
 },
 "nbformat": 4,
 "nbformat_minor": 2
}
